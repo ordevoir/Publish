{
 "cells": [
  {
   "cell_type": "code",
   "execution_count": null,
   "id": "886c5203",
   "metadata": {},
   "outputs": [],
   "source": [
    "import numpy as np\n",
    "import matplotlib.pyplot as plt"
   ]
  },
  {
   "cell_type": "markdown",
   "id": "dac04e48",
   "metadata": {},
   "source": [
    "# Основные функции"
   ]
  },
  {
   "cell_type": "code",
   "execution_count": null,
   "id": "a5ae90a4",
   "metadata": {},
   "outputs": [],
   "source": [
    "def int_to_bits(n: int) -> np.ndarray:\n",
    "    \"\"\"Функция принимает целое число в диапазоне [0, 255]. \n",
    "    Возвращает массив из 8 элементов – двоичное представление числа.\n",
    "    Младший бит – крайний левый (с индексом 0)\"\"\"\n",
    "    bits = list(f\"{n:08b}\")                 # str -> list\n",
    "    bits = np.array(bits, dtype=np.int64)   # list -> array\n",
    "    return np.flip(bits)                    # разворачиваем массив\n",
    "\n",
    "rule_lut = int_to_bits(42)\n",
    "rule_lut"
   ]
  },
  {
   "cell_type": "code",
   "execution_count": null,
   "id": "9ca7731b",
   "metadata": {},
   "outputs": [],
   "source": [
    "def bits_to_int(arr: np.ndarray) -> int:\n",
    "    \"\"\"Функция принимает массив – бинарное представление числа.\n",
    "    Возвращает десятичное число.\n",
    "    \"\"\"\n",
    "    value = 0\n",
    "    for i in range(len(arr)):\n",
    "        p = 2**i\n",
    "        value += p * arr[i]\n",
    "    return int(value)\n",
    "\n",
    "bits_to_int(rule_lut)"
   ]
  },
  {
   "cell_type": "code",
   "execution_count": null,
   "id": "e87b893e",
   "metadata": {},
   "outputs": [],
   "source": [
    "def pass_tape(tape: np.ndarray, lut: dict, iteration: int):\n",
    "    \"\"\"Функция принимает:\n",
    "    - матрицу tape – временно́й роллаут одномерного автомата;\n",
    "    - массив lut – двоичное представление правила переходов (младший бит по индексу 0);\n",
    "    - положительное целое число iteration – номер текущей итерации;\n",
    "    Функция заполняет ряд itaration+1 на основе ряда iteration по правилу lut.\n",
    "    \"\"\"\n",
    "    length = tape.shape[1]\n",
    "    for i in range(length-2):\n",
    "        window = tape[iteration, i:i+3]\n",
    "        lut_code = bits_to_int(np.flip(window))\n",
    "        tape[iteration+1, i+1] = lut[lut_code]"
   ]
  },
  {
   "cell_type": "markdown",
   "id": "aa9d2204",
   "metadata": {},
   "source": [
    "# Конфигурирование"
   ]
  },
  {
   "cell_type": "code",
   "execution_count": null,
   "id": "76a16a96",
   "metadata": {},
   "outputs": [],
   "source": [
    "length = 1001               # длина клеточного автомата\n",
    "rule = 57                 # правила переходов\n",
    "\n",
    "n_iterations = length // 2\n",
    "\n",
    "# определим, в каких позициях будут заданы единичные ячейки автомата\n",
    "init = np.array([\n",
    "    length // 2, \n",
    "    # 2* length // 3 - 100,\n",
    "    ])"
   ]
  },
  {
   "cell_type": "markdown",
   "id": "5344d4e5",
   "metadata": {},
   "source": [
    "## Случайная конфигурация"
   ]
  },
  {
   "cell_type": "code",
   "execution_count": null,
   "id": "ce2d16ec",
   "metadata": {},
   "outputs": [],
   "source": [
    "# random_values = np.random.randint(0, 2, size=length)\n",
    "# indices = [i for i in range(len(random_values)) if random_values[i]]\n",
    "# init = np.array(indices)"
   ]
  },
  {
   "cell_type": "markdown",
   "id": "6f0ba687",
   "metadata": {},
   "source": [
    "# Запуск симуляции"
   ]
  },
  {
   "cell_type": "code",
   "execution_count": null,
   "id": "9429aef6",
   "metadata": {},
   "outputs": [],
   "source": [
    "tape = np.zeros((n_iterations+1, length), dtype=np.uint8)\n",
    "tape[0, init] = 1\n",
    "\n",
    "lut = int_to_bits(rule)\n",
    "for i in range(n_iterations):\n",
    "    pass_tape(tape, lut, i)"
   ]
  },
  {
   "cell_type": "markdown",
   "id": "5c405edb",
   "metadata": {},
   "source": [
    "# Визуализация"
   ]
  },
  {
   "cell_type": "code",
   "execution_count": null,
   "id": "8b5dd71e",
   "metadata": {},
   "outputs": [],
   "source": [
    "image = tape.copy()\n",
    "\n",
    "plt.style.use(\"ordevoir-dark\")\n",
    "\n",
    "image[image==0] = 20\n",
    "image[image==1] = 130\n",
    "\n",
    "plt.figure(figsize=(40, 20))\n",
    "plt.axis('off')\n",
    "plt.imshow(image, cmap='gray', vmin=0, vmax=255)"
   ]
  },
  {
   "cell_type": "code",
   "execution_count": null,
   "id": "c9acd976",
   "metadata": {},
   "outputs": [],
   "source": [
    "## Визуализация фрагмента"
   ]
  },
  {
   "cell_type": "code",
   "execution_count": null,
   "id": "b8eacddb",
   "metadata": {},
   "outputs": [],
   "source": [
    "left = length // 2 - 100\n",
    "right = length // 2 + 100\n",
    "top = 0\n",
    "bottom = 100\n",
    "\n",
    "plt.figure(figsize=(40, 20))\n",
    "plt.axis('off')\n",
    "plt.imshow(image[top:bottom, left:right], cmap='gray', vmin=0, vmax=255)"
   ]
  },
  {
   "cell_type": "markdown",
   "id": "35c881e5",
   "metadata": {},
   "source": [
    "# Сохранение изображения"
   ]
  },
  {
   "cell_type": "code",
   "execution_count": null,
   "id": "e4a2cd7d",
   "metadata": {},
   "outputs": [],
   "source": [
    "import uuid\n",
    "from PIL import Image\n",
    "\n",
    "image = tape.copy()\n",
    "\n",
    "image[image==0] = 40\n",
    "image[image==1] = 100\n",
    "\n",
    "suffix = uuid.uuid4().hex[:8]\n",
    "tape_uint8 = image.astype(np.uint8)\n",
    "\n",
    "img = Image.fromarray(tape_uint8)  # 'L' для grayscale\n",
    "img.save(f\"rule_{rule}_{suffix}.png\")"
   ]
  }
 ],
 "metadata": {
  "kernelspec": {
   "display_name": "marl",
   "language": "python",
   "name": "python3"
  },
  "language_info": {
   "codemirror_mode": {
    "name": "ipython",
    "version": 3
   },
   "file_extension": ".py",
   "mimetype": "text/x-python",
   "name": "python",
   "nbconvert_exporter": "python",
   "pygments_lexer": "ipython3",
   "version": "3.12.11"
  }
 },
 "nbformat": 4,
 "nbformat_minor": 5
}
