{
 "cells": [
  {
   "cell_type": "markdown",
   "metadata": {},
   "source": [
    "# Упругое соударение"
   ]
  },
  {
   "cell_type": "markdown",
   "metadata": {},
   "source": [
    "- Частицы моделируются кругами радиуса $R$, масса которых равна $1$. \n",
    "- У каждой частицы имеется координата $\\mathbf{r} = (x, y)$ и скорость $\\mathbf{v}=(v_x, v_y)$. \n",
    "- За временной шаг $\\Delta t$ частица перемещается в соответствии со скоростью $\\mathbf{r} ← \\mathbf{r} + \\mathbf{v}Δ t$.\n",
    "\n",
    "Пусть $\\mathbf r_1=(x_1,y_1)$, $\\mathbf r_2=(x_2,y_2)$ – радиус-векторы двух частиц. Тогда расстояние между ними:\n",
    "\n",
    "$$\n",
    "d=\\sqrt{\\Delta x^2+\\Delta y^2}\n",
    "$$"
   ]
  },
  {
   "cell_type": "code",
   "execution_count": 2,
   "metadata": {},
   "outputs": [],
   "source": [
    "import numpy as np\n",
    "\n",
    "def get_distance(r1, r2):\n",
    "    return np.sqrt(np.sum((r1 - r2)**2))"
   ]
  },
  {
   "cell_type": "markdown",
   "metadata": {},
   "source": [
    "При соударении учитывается, что удар может быть не центральным. Вращение частиц вокруг своей оси не учитывается. Для обновления сокоростей при не центральном ударе можно произвести переход в систему координат (СК), в которой ось $Ox$ проходит через центры частиц в момент контакта. Будем называть эту систему координат собственной СК. В собственной СК упругое столкновение сводится к обмену нормальными компонентами импульсов, а касательные (тангенциальные) компоненты остаются неизменными.\n",
    "\n",
    "Для перехода в собственную систему отсчета можно использовать матрицу преобразования:\n",
    "\n",
    "$$\n",
    "T = \n",
    "\\begin{bmatrix}\n",
    "\\cos(α)  & \\sin(α) \\\\\n",
    "-\\sin(α) & \\cos(α) \\\\\n",
    "\\end{bmatrix}\n",
    "$$\n",
    "\n",
    "Для того, чтобы перейти обратно в глобальную СК, можно использовать обратную матрицу:\n",
    "\n",
    "$$\n",
    "T^{(-1)} = \n",
    "\\begin{bmatrix}\n",
    "\\cos(α)  & -\\sin(α) \\\\\n",
    "\\sin(α) & \\cos(α) \\\\\n",
    "\\end{bmatrix}\n",
    "$$\n",
    "\n",
    "$\\cos α$ $\\sin α$ – комоненты вектора \n",
    "\n",
    "$$\n",
    "\\mathbf{n} = \\frac{\\mathbf{r_1} - \\mathbf{r_2}}{∣\\mathbf{r_1} - \\mathbf{r_2}∣} \n",
    "$$\n",
    "\n",
    "Напишем функцию, возвращающую пару матриц $T$ и $T^{(-1)}$:"
   ]
  },
  {
   "cell_type": "code",
   "execution_count": 6,
   "metadata": {},
   "outputs": [],
   "source": [
    "def get_transform_pair(r1, r2, distance):\n",
    "    # (защита от нулевой дистанции)\n",
    "    if distance == 0:\n",
    "        n = np.array([1.0, 0.0])\n",
    "    else:\n",
    "        n = (r1 - r2) / distance\n",
    "    cos, sin = n[0], n[1]\n",
    "    \n",
    "    transform = np.array([\n",
    "        [cos,  sin],\n",
    "        [-sin, cos],\n",
    "    ])\n",
    "    reverse = np.array([\n",
    "        [cos, -sin],\n",
    "        [sin,  cos],\n",
    "    ])\n",
    "    return transform, reverse"
   ]
  },
  {
   "cell_type": "markdown",
   "metadata": {},
   "source": [
    "Функция, производящая преобразование скоростей при столкновении:"
   ]
  },
  {
   "cell_type": "code",
   "execution_count": 7,
   "metadata": {},
   "outputs": [],
   "source": [
    "def vels_after_collision(r1, r2, v1, v2, distance):\n",
    "    transform, reverse = get_transform_pair(r1, r2, distance)\n",
    "\n",
    "    # Переход в собственную СК\n",
    "    v1_trans = np.dot(transform, v1)\n",
    "    v2_trans = np.dot(transform, v2)\n",
    "\n",
    "    # Обмен скоростями\n",
    "    v1_trans[0], v2_trans[0] = v2_trans[0], v1_trans[0]\n",
    "    \n",
    "    # переход обратно в глобальную СК\n",
    "    v1_reverse = np.dot(reverse, v1_trans)\n",
    "    v2_reverse = np.dot(reverse, v2_trans)\n",
    "\n",
    "    return v1_reverse, v2_reverse"
   ]
  },
  {
   "cell_type": "markdown",
   "metadata": {},
   "source": [
    "Напишем функцию для одного шага. \n",
    "\n",
    "- матрицу всех координат `rs`\n",
    "- матрицу всех скоростей `vs`\n",
    "- диаметр частицы `diameter`\n",
    "- границы среды `bounds` (кортеж)\n",
    "- ширина стены `wall_width`\n",
    "\n",
    "Временной шаг $Δt$ примем равным $1$. Тогда обновление координаты:\n",
    "\n",
    "$$\n",
    "\\mathbf{r} ← \\mathbf{r} + \\mathbf{v}\n",
    "$$\n",
    "\n",
    "Столкновение с внутренней стенкой регистрируется, если частица окажется между границами стенки, т.е. в стенке."
   ]
  },
  {
   "cell_type": "code",
   "execution_count": 36,
   "metadata": {},
   "outputs": [],
   "source": [
    "def one_step(rs, vs, diameter, bounds, wall_width):\n",
    "\n",
    "    # перемещение\n",
    "    rs += vs\n",
    "\n",
    "    # столкновение с внешними стенками\n",
    "    mask = np.logical_or(rs<=bounds[0], rs>=bounds[1])\n",
    "    rs[mask] -= vs[mask]\n",
    "    vs[mask] = -vs[mask]\n",
    "    \n",
    "    # столкновение с внутренней стенкой\n",
    "    h_middle = bounds[1] // 2\n",
    "    half_wall_thickness = wall_width // 2 + diameter // 2\n",
    "    wall_left = h_middle - half_wall_thickness\n",
    "    wall_right = h_middle + half_wall_thickness\n",
    "\n",
    "    mask2 = np.logical_and(rs[:, 0]<=wall_right, rs[:, 0]>=wall_left)\n",
    "    rs[mask2, 0] -= vs[mask2, 0]\n",
    "    vs[mask2, 0] = -vs[mask2, 0]\n",
    "    \n",
    "    # соударение шариков между собой\n",
    "    for i in range(len(rs)-1):\n",
    "        for j in range(i+1, len(rs)):\n",
    "            r1, r2, v1, v2 = rs[i], rs[j], vs[i], vs[j]\n",
    "            distance = get_distance(r1, r2)\n",
    "            if distance <= diameter:\n",
    "                vs[i], vs[j] = vels_after_collision(r1, r2, v1, v2, distance) \n",
    "                rs[i] += vs[i]\n",
    "                rs[j] += vs[j]"
   ]
  },
  {
   "cell_type": "markdown",
   "metadata": {},
   "source": [
    "Функция для инициализация стартовых значений координат и скоростей"
   ]
  },
  {
   "cell_type": "code",
   "execution_count": null,
   "metadata": {},
   "outputs": [],
   "source": [
    "def init_rs_vs(bounds, n_particles, velosity_factor=0.01):\n",
    "    coord_values = np.linspace(bounds[0], bounds[1]//4, int(np.sqrt(n_particles)))\n",
    "    rs = np.zeros((n_particles, 2), dtype=np.float16)\n",
    "    counter = 0\n",
    "    for i in range(int(np.sqrt(n_particles))):\n",
    "        for j in range(int(np.sqrt(n_particles))):\n",
    "            rs[counter] = coord_values[i], coord_values[j]\n",
    "            counter += 1\n",
    "\n",
    "    vs = np.random.uniform(-bounds[1], bounds[1], size=(n_particles, 2)) * velosity_factor\n",
    "    return rs, vs"
   ]
  },
  {
   "cell_type": "markdown",
   "metadata": {},
   "source": [
    "# Запуск симуляции"
   ]
  },
  {
   "cell_type": "code",
   "execution_count": 60,
   "metadata": {},
   "outputs": [],
   "source": [
    "import matplotlib.pyplot as plt\n",
    "import matplotlib.colors as mcolors\n",
    "from matplotlib.patches import Rectangle, Circle\n",
    "\n",
    "%matplotlib qt\n",
    "\n",
    "bounds = 0., 100.   # границы (совпадают как для X так и для Y)\n",
    "wall_width = 2\n",
    "N = 50              # число частиц\n",
    "d = 2.\n",
    "\n",
    "rs, vs = init_rs_vs(bounds, N, velosity_factor=0.02)\n",
    "\n",
    "GRAY = \"#333\"\n",
    "DARKGRAY = \"#222\"\n",
    "figwidth = 10\n",
    "\n",
    "fig, ax = plt.subplots()\n",
    "fig.set_figwidth(figwidth)\n",
    "fig.set_figheight(figwidth)\n",
    "fig.set_facecolor(DARKGRAY)\n",
    "\n",
    "# Палитра/нормализация для стабильной окраски по скорости\n",
    "cmap = plt.get_cmap('hot')\n",
    "speed_norm = mcolors.Normalize(vmin=0, vmax=np.linalg.norm(vs, axis=1).max() + 1e-12)\n",
    "\n",
    "for n in range(500):\n",
    "    ax.clear()\n",
    "\n",
    "    # Cерая полоса-стена по центру (стена)\n",
    "    h_middle = (bounds[0] + bounds[1]) / 2\n",
    "    wall_x0 = h_middle - wall_width / 2\n",
    "    ax.add_patch(\n",
    "        Rectangle(\n",
    "            (wall_x0, bounds[0]),\n",
    "            width=wall_width,\n",
    "            height=bounds[1] - bounds[0],\n",
    "            facecolor=DARKGRAY, edgecolor='none', zorder=0\n",
    "        )\n",
    "    )\n",
    "\n",
    "    # Частицы как круги радиусом d/2\n",
    "    colors = np.linalg.norm(vs, axis=1) # Скорости для окраски\n",
    "    for (x, y), c in zip(rs, colors):\n",
    "        ax.add_patch(\n",
    "            Circle(\n",
    "                (x, y),\n",
    "                radius=d/2,\n",
    "                facecolor=cmap(speed_norm(c)),\n",
    "                edgecolor='none',\n",
    "                zorder=1\n",
    "            )\n",
    "        )\n",
    "\n",
    "    one_step(rs, vs, d, bounds, wall_width)\n",
    "\n",
    "    ax.set_xlim(bounds)\n",
    "    ax.set_ylim(bounds)\n",
    "    ax.set_aspect('equal', adjustable='box')\n",
    "    ax.set_facecolor(GRAY)\n",
    "\n",
    "    # Убираем подписи и риски на осях\n",
    "    ax.tick_params(bottom=False, left=False, labelbottom=False, labelleft=False)\n",
    "    for spine in ax.spines.values():\n",
    "        spine.set_visible(False)\n",
    "    plt.pause(0.05)"
   ]
  }
 ],
 "metadata": {
  "kernelspec": {
   "display_name": "marl",
   "language": "python",
   "name": "python3"
  },
  "language_info": {
   "codemirror_mode": {
    "name": "ipython",
    "version": 3
   },
   "file_extension": ".py",
   "mimetype": "text/x-python",
   "name": "python",
   "nbconvert_exporter": "python",
   "pygments_lexer": "ipython3",
   "version": "3.12.11"
  },
  "orig_nbformat": 4
 },
 "nbformat": 4,
 "nbformat_minor": 2
}
