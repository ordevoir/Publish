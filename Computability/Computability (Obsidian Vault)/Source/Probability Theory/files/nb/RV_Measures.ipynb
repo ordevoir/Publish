{
 "cells": [
  {
   "cell_type": "markdown",
   "id": "aa8b8df6",
   "metadata": {},
   "source": [
    "# Дискретная случайная величина"
   ]
  },
  {
   "cell_type": "code",
   "execution_count": 116,
   "id": "dff126fb",
   "metadata": {},
   "outputs": [],
   "source": [
    "import numpy as np\n",
    "\n",
    "X = np.array([ -3,  -2,  -1,   0,   1,   2,   3,   4,   5])\n",
    "p = np.array([.05, .06, .13, .24, .06, .15, .14, .08, .09])"
   ]
  },
  {
   "cell_type": "markdown",
   "id": "7e58d134",
   "metadata": {},
   "source": [
    "# Выборка\n",
    "\n",
    "Для того, чтобы статистически оценивать математическое ожидание выборки, и другие характеристики, сгенерируем выборку по значениями `X` и `p`. "
   ]
  },
  {
   "cell_type": "code",
   "execution_count": 117,
   "id": "de406c2c",
   "metadata": {},
   "outputs": [],
   "source": [
    "sample_discrete = np.random.choice(X, 100000, p=p)"
   ]
  },
  {
   "cell_type": "markdown",
   "id": "1dd01c1b",
   "metadata": {},
   "source": [
    "# Математическое ожидание\n",
    "\n",
    "Вычислим математическое ожидание дискретной случайной величины, определенной массивами `X` и `p`"
   ]
  },
  {
   "cell_type": "code",
   "execution_count": 118,
   "id": "02fa9d16",
   "metadata": {},
   "outputs": [
    {
     "name": "stdout",
     "output_type": "stream",
     "text": [
      "1.15\n"
     ]
    }
   ],
   "source": [
    "def EV(a, p):\n",
    "    \"\"\"Математическое ожидание\"\"\"\n",
    "    return sum(a*p)\n",
    "\n",
    "ev = EV(X, p)\n",
    "print(ev)"
   ]
  },
  {
   "cell_type": "markdown",
   "id": "79bd2fd7",
   "metadata": {},
   "source": [
    "## Статистическая оценка\n",
    "\n",
    "Математическое ожидание выборки можно оценить как среднее арифметическое от всех образцов выборки (*sample mean*):\n",
    "\n",
    "$$\n",
    "\\overline x = \\frac{1}{n} \\sum_{i=1}^n x_i \n",
    "$$\n",
    "\n",
    "Вычислить среднее значение массива Numpy можно методом `mean()`."
   ]
  },
  {
   "cell_type": "code",
   "execution_count": 119,
   "id": "63736b10",
   "metadata": {},
   "outputs": [
    {
     "name": "stdout",
     "output_type": "stream",
     "text": [
      "100000\n",
      "[ 3 -2 -2  2  4  0  1  0  0 -1  0  0  5 -3 -1  0]\n",
      "1.15592\n"
     ]
    }
   ],
   "source": [
    "sample_discrete = np.random.choice(X, 100000, p=p)\n",
    "print(len(sample_discrete))     # размер выборки\n",
    "print(sample_discrete[:16])     # первые 16 значений\n",
    "print(sample_discrete.mean())   # среднее значение"
   ]
  },
  {
   "cell_type": "markdown",
   "id": "47286cba",
   "metadata": {},
   "source": [
    "# Дисперсия"
   ]
  },
  {
   "cell_type": "code",
   "execution_count": 120,
   "id": "8056cc14",
   "metadata": {},
   "outputs": [
    {
     "name": "stdout",
     "output_type": "stream",
     "text": [
      "4.947500000000001\n"
     ]
    }
   ],
   "source": [
    "def var(a, p):\n",
    "    ev = EV(a, p)\n",
    "    variance = 0\n",
    "    for i in range(len(a)):\n",
    "        variance += ((a[i] - ev) ** 2) * p[i]\n",
    "    return variance\n",
    "\n",
    "print(var(X, p))"
   ]
  },
  {
   "cell_type": "markdown",
   "id": "e33aada1",
   "metadata": {},
   "source": [
    "## Выборочная дисперсия (статистическая оценка)"
   ]
  },
  {
   "cell_type": "code",
   "execution_count": 121,
   "id": "a885a3e8",
   "metadata": {},
   "outputs": [
    {
     "name": "stdout",
     "output_type": "stream",
     "text": [
      "4.941108953601593\n"
     ]
    }
   ],
   "source": [
    "def get_var(sample):\n",
    "    ev = sample.mean()\n",
    "    variance = 0\n",
    "    for s in sample:\n",
    "        variance += (s - ev) ** 2\n",
    "\n",
    "    return variance / len(sample)\n",
    "\n",
    "print(get_var(sample_discrete))"
   ]
  },
  {
   "cell_type": "markdown",
   "id": "b4a753fe",
   "metadata": {},
   "source": [
    "Можно воспользоваться функцией `var()` из библиотеки NumPy. Также можно вызвать одноименный метод у массива NumPy:"
   ]
  },
  {
   "cell_type": "code",
   "execution_count": 122,
   "id": "3e625ce2",
   "metadata": {},
   "outputs": [
    {
     "name": "stdout",
     "output_type": "stream",
     "text": [
      "4.941108953599999\n"
     ]
    }
   ],
   "source": [
    "print(sample_discrete.var())"
   ]
  },
  {
   "cell_type": "markdown",
   "id": "88aa246a",
   "metadata": {},
   "source": [
    "# Стандартное отклонение\n",
    "\n",
    "Для того, чтобы оценить стандартное отклонение, можно вычислить оценку дисперсии и взять корень. Также можно воспользоваться функцией или методом `std()`:"
   ]
  },
  {
   "cell_type": "code",
   "execution_count": 123,
   "id": "c1aca8e2",
   "metadata": {},
   "outputs": [
    {
     "data": {
      "text/plain": [
       "np.float64(2.2228605339966787)"
      ]
     },
     "execution_count": 123,
     "metadata": {},
     "output_type": "execute_result"
    }
   ],
   "source": [
    "np.std(sample_discrete)     # функция\n",
    "sample_discrete.std()       # метод"
   ]
  },
  {
   "cell_type": "markdown",
   "id": "0c605f75",
   "metadata": {},
   "source": [
    "# Мода"
   ]
  },
  {
   "cell_type": "markdown",
   "id": "51e730a0",
   "metadata": {},
   "source": [
    "Создадим функцию, которая возвращает словарь, ключами которого будут величины в выборке (`sample`), а по ключу будет количество появления этой величины в выборке:"
   ]
  },
  {
   "cell_type": "code",
   "execution_count": 128,
   "id": "689518fd",
   "metadata": {},
   "outputs": [
    {
     "data": {
      "text/plain": [
       "{np.int64(3): 14106,\n",
       " np.int64(-2): 5872,\n",
       " np.int64(2): 15076,\n",
       " np.int64(4): 7996,\n",
       " np.int64(0): 23938,\n",
       " np.int64(1): 5921,\n",
       " np.int64(-1): 13097,\n",
       " np.int64(5): 9005,\n",
       " np.int64(-3): 4989}"
      ]
     },
     "execution_count": 128,
     "metadata": {},
     "output_type": "execute_result"
    }
   ],
   "source": [
    "def get_frequencies_dict(sample):\n",
    "\tdictionary = dict()\n",
    "\tfor n in sample_discrete:\n",
    "\t\tif n in dictionary:\n",
    "\t\t\tdictionary[n] += 1\n",
    "\t\telse:\n",
    "\t\t\tdictionary[n] = 1\n",
    "\treturn dictionary\n",
    "\n",
    "get_frequencies_dict(sample_discrete)"
   ]
  },
  {
   "cell_type": "markdown",
   "id": "84b4055a",
   "metadata": {},
   "source": [
    "Для того, чтобы найти ключ, которому соответствует максимальное значение, можно воспользоваться функцией высшего порядка `max()`. Первым аргументом передается словарь `dictionary`, а вторым (`key`) – экземпляр метода объекта `dictionary.get`, который возвращает значение по ключу. Функция `max()` вернет ключ словарь, для которого метод `dictionary.get` вернет наибольшее значение:"
   ]
  },
  {
   "cell_type": "code",
   "execution_count": 131,
   "id": "389cc68c",
   "metadata": {},
   "outputs": [
    {
     "name": "stdout",
     "output_type": "stream",
     "text": [
      "0\n"
     ]
    }
   ],
   "source": [
    "dictionary = get_frequencies_dict(sample_discrete)\n",
    "print(max(dictionary, key=dictionary.get))"
   ]
  },
  {
   "cell_type": "markdown",
   "id": "ae840ac1",
   "metadata": {},
   "source": [
    "## Альтернативный способ\n",
    "\n",
    "Для того, чтобы найти величину, которая чаще остальных появлялась в выборке, конвертируем ключи и значения словаря в массивы NumPy, используя функцию `fromiter()`,  Далее найдем индекс максимального значения в массиве при помощи функции `argmax()`. По этому индексу в массиве ключей получим величину, которая чаще всего появлялась в выборке, т.е. моду."
   ]
  },
  {
   "cell_type": "code",
   "execution_count": 132,
   "id": "10cb7552",
   "metadata": {},
   "outputs": [
    {
     "name": "stdout",
     "output_type": "stream",
     "text": [
      "0\n"
     ]
    }
   ],
   "source": [
    "dictionary = get_frequencies_dict(sample_discrete)\n",
    "frequencies = np.fromiter(dictionary.values(), dtype=int)\n",
    "values = np.fromiter(dictionary.keys(), dtype=int)\n",
    "index = np.argmax(frequencies)\n",
    "print(values[index])"
   ]
  },
  {
   "cell_type": "markdown",
   "id": "bd85152a",
   "metadata": {},
   "source": [
    "Убедимся, что распределение выборки по частотам соответствует заданному выше распределению вероятностей случайной величины, по которому и генерировалась эта выборка:"
   ]
  },
  {
   "cell_type": "code",
   "execution_count": 134,
   "id": "1d0a4b29",
   "metadata": {},
   "outputs": [
    {
     "data": {
      "image/png": "[encoded data removed]",
      "text/plain": [
       "<Figure size 960x720 with 1 Axes>"
      ]
     },
     "metadata": {},
     "output_type": "display_data"
    }
   ],
   "source": [
    "import matplotlib.pyplot as plt\n",
    "\n",
    "plt.style.use(\"ordevoir-dark\")\n",
    "plt.bar(values, frequencies)\n",
    "plt.xlabel('values')\n",
    "plt.ylabel('frequencies')\n",
    "plt.show()"
   ]
  },
  {
   "cell_type": "markdown",
   "id": "780da5e4",
   "metadata": {},
   "source": [
    "# Медиана\n",
    "\n",
    "Для вычисления медианы можно воспользоваться функцией `np.median()`:"
   ]
  },
  {
   "cell_type": "code",
   "execution_count": null,
   "id": "b582c689",
   "metadata": {},
   "outputs": [],
   "source": [
    "print(np.median(sample_discrete))"
   ]
  },
  {
   "cell_type": "markdown",
   "id": "2296e64c",
   "metadata": {},
   "source": [
    "Или написать и собственную функцию"
   ]
  },
  {
   "cell_type": "code",
   "execution_count": 135,
   "id": "8880777f",
   "metadata": {},
   "outputs": [
    {
     "name": "stdout",
     "output_type": "stream",
     "text": [
      "1\n"
     ]
    }
   ],
   "source": [
    "def get_median(sample):\n",
    "   ordered = np.sort(sample, kind='mergesort')\n",
    "   n = len(ordered)\n",
    "   if n % 2 == 0:\n",
    "       median = ordered[int(n/2)]\n",
    "   else:\n",
    "       median = ordered[int(np.ceil(n/2))]\n",
    "   return median\n",
    "\n",
    "print(get_median(sample_discrete))"
   ]
  }
 ],
 "metadata": {
  "kernelspec": {
   "display_name": "marl",
   "language": "python",
   "name": "python3"
  },
  "language_info": {
   "name": "python",
   "version": "3.12.11"
  }
 },
 "nbformat": 4,
 "nbformat_minor": 5
}
