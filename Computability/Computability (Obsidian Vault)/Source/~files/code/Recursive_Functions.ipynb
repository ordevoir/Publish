{
 "cells": [
  {
   "cell_type": "markdown",
   "id": "ec9e57d1",
   "metadata": {},
   "source": [
    "# Базовые функции"
   ]
  },
  {
   "cell_type": "markdown",
   "id": "7ee34b62",
   "metadata": {},
   "source": [
    "Нулевая функция"
   ]
  },
  {
   "cell_type": "code",
   "execution_count": 10,
   "id": "56136102",
   "metadata": {},
   "outputs": [],
   "source": [
    "# Вариант из Булоса\n",
    "def z(*args, **kwargs):\n",
    "    return 0\n",
    "\n",
    "def z(x):\n",
    "    return 0"
   ]
  },
  {
   "cell_type": "markdown",
   "id": "e969b4ca",
   "metadata": {},
   "source": [
    "Функция следования"
   ]
  },
  {
   "cell_type": "code",
   "execution_count": 11,
   "id": "c4c906c3",
   "metadata": {},
   "outputs": [],
   "source": [
    "def s(x: int):\n",
    "    \"\"\"Successor function\"\"\"\n",
    "    if isinstance(x, int):\n",
    "        return x+1\n",
    "    else:\n",
    "        raise TypeError (\"x must be int\")"
   ]
  },
  {
   "cell_type": "markdown",
   "id": "c58bc86f",
   "metadata": {},
   "source": [
    "Проективная функция"
   ]
  },
  {
   "cell_type": "code",
   "execution_count": 12,
   "id": "3c492611",
   "metadata": {},
   "outputs": [],
   "source": [
    "def I(v: int|tuple|list, index=None):\n",
    "    \"\"\"Identity function. \n",
    "    If v is array index must be given\"\"\"\n",
    "    if not index is None:\n",
    "        return v[index]\n",
    "    elif isinstance(v, int):\n",
    "        return v\n",
    "    elif len(v) == 1:\n",
    "        return v[0]\n",
    "    else:\n",
    "        raise TypeError\n",
    "    \n",
    "def get_id_function(i=None, k=None):\n",
    "    \"\"\"Identity function generator\"\"\"\n",
    "    if i is None or k==1:\n",
    "        return I\n",
    "    elif i >= k or k < 0 or i < 0:\n",
    "        raise ValueError (\"i must be less than k and both non-negative\")\n",
    "    else:\n",
    "        def f(*v):\n",
    "            if len(v) != k:\n",
    "                raise ValueError (f\"len(v) must be equal {k}\")\n",
    "            return I(v, i)\n",
    "        return f"
   ]
  },
  {
   "cell_type": "markdown",
   "id": "b7a73a90",
   "metadata": {},
   "source": [
    "# Операции"
   ]
  },
  {
   "cell_type": "markdown",
   "id": "7d93a151",
   "metadata": {},
   "source": [
    "Композиция"
   ]
  },
  {
   "cell_type": "code",
   "execution_count": 13,
   "id": "53a7f451",
   "metadata": {},
   "outputs": [],
   "source": [
    "def Cn(f, *gs):\n",
    "    \"\"\"Composition\"\"\"\n",
    "    def h(*args):\n",
    "        interim = []\n",
    "        for g in gs:\n",
    "            interim.append(g(*args))\n",
    "        return f(*interim)\n",
    "    return h"
   ]
  },
  {
   "cell_type": "code",
   "execution_count": 14,
   "id": "8983a0c7",
   "metadata": {},
   "outputs": [
    {
     "data": {
      "text/plain": [
       "16"
      ]
     },
     "execution_count": 14,
     "metadata": {},
     "output_type": "execute_result"
    }
   ],
   "source": [
    "id_1_2 = get_id_function(0, 2)\n",
    "g = Cn(s, id_1_2)\n",
    "h = Cn(s, g)\n",
    "\n",
    "h(14, 5)"
   ]
  },
  {
   "cell_type": "markdown",
   "id": "61f2cb38",
   "metadata": {},
   "source": [
    "Примитивная рекурсия"
   ]
  },
  {
   "cell_type": "code",
   "execution_count": 15,
   "id": "b42f898a",
   "metadata": {},
   "outputs": [],
   "source": [
    "def Pr(f, g):\n",
    "    def h(x, y):\n",
    "        # print(f\"{y = }\")\n",
    "        if y == 0:\n",
    "            # print('terminate')\n",
    "            return f(x)\n",
    "        return g(x, y-1, h(x, y-1))\n",
    "    return h"
   ]
  },
  {
   "cell_type": "markdown",
   "id": "0bf0ee9b",
   "metadata": {},
   "source": [
    "В данном случае оператор `-` используется в коде для имитации вот этого участка: $h(x, s(y)) = g(x, y, h(x, y))$, так как в Python нет возможности задать непосредственно в этом виде."
   ]
  },
  {
   "cell_type": "markdown",
   "id": "971f3c19",
   "metadata": {},
   "source": [
    "# Примеры"
   ]
  },
  {
   "cell_type": "markdown",
   "id": "9af1f084",
   "metadata": {},
   "source": [
    "## Сложение "
   ]
  },
  {
   "cell_type": "code",
   "execution_count": 16,
   "id": "6460bc18",
   "metadata": {},
   "outputs": [
    {
     "data": {
      "text/plain": [
       "18"
      ]
     },
     "execution_count": 16,
     "metadata": {},
     "output_type": "execute_result"
    }
   ],
   "source": [
    "f = get_id_function()\n",
    "g = Cn(s, get_id_function(2, 3))\n",
    "add = Pr(f, g)\n",
    "\n",
    "add(14, 4)"
   ]
  },
  {
   "cell_type": "markdown",
   "id": "5751aa71",
   "metadata": {},
   "source": [
    "## Умножение"
   ]
  },
  {
   "cell_type": "code",
   "execution_count": 17,
   "id": "61e576bb",
   "metadata": {},
   "outputs": [
    {
     "data": {
      "text/plain": [
       "12"
      ]
     },
     "execution_count": 17,
     "metadata": {},
     "output_type": "execute_result"
    }
   ],
   "source": [
    "f = z\n",
    "g = Cn(add, get_id_function(0, 3), get_id_function(2, 3))\n",
    "mul = Pr(f, g)\n",
    "\n",
    "mul(3, 4)"
   ]
  },
  {
   "cell_type": "markdown",
   "id": "787a1183",
   "metadata": {},
   "source": [
    "## Возведение в степень"
   ]
  },
  {
   "cell_type": "code",
   "execution_count": 18,
   "id": "49af818a",
   "metadata": {},
   "outputs": [
    {
     "data": {
      "text/plain": [
       "1024"
      ]
     },
     "execution_count": 18,
     "metadata": {},
     "output_type": "execute_result"
    }
   ],
   "source": [
    "def f(x):\n",
    "    return s(z(x))\n",
    "g = Cn(mul, get_id_function(0, 3), get_id_function(2, 3))\n",
    "exp = Pr(f, g)\n",
    "\n",
    "exp(2, 10)"
   ]
  }
 ],
 "metadata": {
  "kernelspec": {
   "display_name": "marl",
   "language": "python",
   "name": "python3"
  },
  "language_info": {
   "codemirror_mode": {
    "name": "ipython",
    "version": 3
   },
   "file_extension": ".py",
   "mimetype": "text/x-python",
   "name": "python",
   "nbconvert_exporter": "python",
   "pygments_lexer": "ipython3",
   "version": "3.12.11"
  }
 },
 "nbformat": 4,
 "nbformat_minor": 5
}
