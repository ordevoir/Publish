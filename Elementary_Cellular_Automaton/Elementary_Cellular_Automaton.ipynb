{
  "cells": [
    {
      "cell_type": "markdown",
      "metadata": {
        "colab_type": "text",
        "id": "view-in-github"
      },
      "source": [
        "<a href=\"https://colab.research.google.com/github/ordevoir/Publish/blob/master/Elementary_Cellular_Automaton.ipynb\" target=\"_parent\"><img src=\"https://colab.research.google.com/assets/colab-badge.svg\" alt=\"Open In Colab\"/></a>"
      ]
    },
    {
      "cell_type": "code",
      "execution_count": null,
      "id": "447819ac",
      "metadata": {
        "id": "447819ac"
      },
      "outputs": [],
      "source": [
        "import numpy as np\n",
        "import matplotlib.pyplot as plt"
      ]
    },
    {
      "cell_type": "markdown",
      "id": "675cf0ec",
      "metadata": {
        "id": "675cf0ec"
      },
      "source": [
        "# Основные функции"
      ]
    },
    {
      "cell_type": "code",
      "execution_count": null,
      "id": "e079b1d5",
      "metadata": {
        "id": "e079b1d5"
      },
      "outputs": [],
      "source": [
        "def int_to_bits(n: int) -> np.ndarray:\n",
        "    \"\"\"Функция принимает целое число в диапазоне [0, 255].\n",
        "    Возвращает массив из 8 элементов – двоичное представление числа.\n",
        "    Младший бит – крайний левый (с индексом 0)\"\"\"\n",
        "    shifts = np.arange(8, dtype=np.uint64)\n",
        "    return (n >> shifts) & 1\n",
        "\n",
        "int_to_bits(42)"
      ]
    },
    {
      "cell_type": "code",
      "execution_count": null,
      "id": "ead5ee65",
      "metadata": {
        "id": "ead5ee65"
      },
      "outputs": [],
      "source": [
        "def pass_tape_vec(tape: np.ndarray, lut: np.ndarray, iteration: int) -> None:\n",
        "    \"\"\"Функция принимает:\n",
        "    - матрицу tape – временно́й роллаут одномерного автомата;\n",
        "    - массив lut – двоичное представление правила переходов (младший бит по индексу 0);\n",
        "    - положительное целое число iteration – номер текущей итерации;\n",
        "    Функция заполняет ряд itaration+1 на основе ряда iteration по правилу lut.\n",
        "    \"\"\"\n",
        "    row = tape[iteration]\n",
        "    L = row[:-2]  << 2      # left      старший бит     умножение на 2**2\n",
        "    C = row[1:-1] << 1      # center                    умножение на 2**1\n",
        "    R = row[2:] # << 0      # right     младший бит\n",
        "    lut_codes = L | C | R   # целочисленные коды триплетов (0..7) – сложение\n",
        "\n",
        "    tape[iteration+1, 1:-1] = lut[lut_codes]   # обновляем внутренние клетки"
      ]
    },
    {
      "cell_type": "markdown",
      "id": "91593031",
      "metadata": {
        "id": "91593031"
      },
      "source": [
        "# Конфигурирование"
      ]
    },
    {
      "cell_type": "code",
      "execution_count": null,
      "id": "54b6a9c8",
      "metadata": {
        "id": "54b6a9c8"
      },
      "outputs": [],
      "source": [
        "length = 25001               # длина клеточного автомата\n",
        "rule = 30                 # правила переходов\n",
        "\n",
        "n_iterations = length // 2\n",
        "\n",
        "# определим, в каких позициях будут заданы единичные ячейки автомата\n",
        "init = np.array([\n",
        "    length // 2,\n",
        "    # 2* length // 3 - 100,\n",
        "    ])"
      ]
    },
    {
      "cell_type": "markdown",
      "id": "273655c9",
      "metadata": {
        "id": "273655c9"
      },
      "source": [
        "## Случайная конфигурация"
      ]
    },
    {
      "cell_type": "code",
      "execution_count": null,
      "id": "6e5fc8c9",
      "metadata": {
        "id": "6e5fc8c9"
      },
      "outputs": [],
      "source": [
        "# random_values = np.random.randint(0, 2, size=length)\n",
        "# indices = [i for i in range(len(random_values)) if random_values[i]]\n",
        "# init = np.array(indices)"
      ]
    },
    {
      "cell_type": "markdown",
      "id": "acdfdc2e",
      "metadata": {
        "id": "acdfdc2e"
      },
      "source": [
        "# Запуск симуляции"
      ]
    },
    {
      "cell_type": "code",
      "execution_count": null,
      "id": "0d2726af",
      "metadata": {
        "id": "0d2726af"
      },
      "outputs": [],
      "source": [
        "tape = np.zeros((n_iterations+1, length), dtype=np.uint8)\n",
        "tape[0, init] = 1\n",
        "\n",
        "lut = int_to_bits(rule)\n",
        "for i in range(n_iterations):\n",
        "    pass_tape_vec(tape, lut, i)\n",
        "\n",
        "image = tape.astype(np.uint8)\n",
        "image[image==0] = 20\n",
        "image[image==1] = 130"
      ]
    },
    {
      "cell_type": "markdown",
      "id": "a11fe67f",
      "metadata": {
        "id": "a11fe67f"
      },
      "source": [
        "# Визуализация"
      ]
    },
    {
      "cell_type": "markdown",
      "id": "d9807f7c",
      "metadata": {},
      "source": [
        "## Визуализация всего роллаута"
      ]
    },
    {
      "cell_type": "code",
      "execution_count": null,
      "id": "1b00fb7e",
      "metadata": {
        "id": "1b00fb7e"
      },
      "outputs": [],
      "source": [
        "# plt.style.use(\"ordevoir-dark\")\n",
        "plt.figure(figsize=(40, 20))\n",
        "plt.axis('off')\n",
        "plt.imshow(image, cmap='gray', vmin=0, vmax=255)"
      ]
    },
    {
      "cell_type": "markdown",
      "id": "e69473a9",
      "metadata": {
        "id": "e69473a9"
      },
      "source": [
        "## Визуализация фрагмента"
      ]
    },
    {
      "cell_type": "code",
      "execution_count": null,
      "id": "5966da71",
      "metadata": {
        "id": "5966da71"
      },
      "outputs": [],
      "source": [
        "left = length // 2 - 1000\n",
        "right = length // 2 + 1000\n",
        "top = length // 2 - 2000\n",
        "bottom = length // 2\n",
        "print(top, bottom, left, right)\n",
        "# plt.style.use(\"ordevoir-dark\")\n",
        "plt.figure(figsize=(15, 15))\n",
        "plt.axis('off')\n",
        "plt.imshow(image[top:bottom, left:right], cmap='gray', vmin=0, vmax=255)"
      ]
    },
    {
      "cell_type": "markdown",
      "id": "54d48793",
      "metadata": {
        "id": "54d48793"
      },
      "source": [
        "# Сохранение изображения"
      ]
    },
    {
      "cell_type": "code",
      "execution_count": null,
      "id": "65b4f83a",
      "metadata": {
        "id": "65b4f83a"
      },
      "outputs": [],
      "source": [
        "import uuid\n",
        "from PIL import Image\n",
        "\n",
        "\n",
        "suffix = uuid.uuid4().hex[:8]\n",
        "\n",
        "# img = Image.fromarray(image)\n",
        "img = Image.fromarray(image[top:bottom, left:right])    # fragment\n",
        "\n",
        "img.save(f\"./images/rule_{rule}_{suffix}.png\")"
      ]
    }
  ],
  "metadata": {
    "colab": {
      "include_colab_link": true,
      "provenance": []
    },
    "kernelspec": {
      "display_name": "marl",
      "language": "python",
      "name": "python3"
    },
    "language_info": {
      "codemirror_mode": {
        "name": "ipython",
        "version": 3
      },
      "file_extension": ".py",
      "mimetype": "text/x-python",
      "name": "python",
      "nbconvert_exporter": "python",
      "pygments_lexer": "ipython3",
      "version": "3.12.11"
    }
  },
  "nbformat": 4,
  "nbformat_minor": 5
}
