{
 "cells": [
  {
   "cell_type": "markdown",
   "id": "a4a8d896",
   "metadata": {},
   "source": [
    "# Decimal Number to Binary"
   ]
  },
  {
   "cell_type": "markdown",
   "id": "8bcc6129",
   "metadata": {},
   "source": [
    "### Способ 1"
   ]
  },
  {
   "cell_type": "code",
   "execution_count": 36,
   "id": "a8cafbcd",
   "metadata": {},
   "outputs": [
    {
     "name": "stdout",
     "output_type": "stream",
     "text": [
      "101010\n"
     ]
    }
   ],
   "source": [
    "def dec_int_to_bin(a: int) -> str:\n",
    "    if a == 0:\n",
    "        return '0'\n",
    "    b = \"\"\n",
    "    while a >= 1:\n",
    "        b = str(a % 2) + b\n",
    "        a //= 2\n",
    "    return b\n",
    "\n",
    "print(dec_int_to_bin(42))"
   ]
  },
  {
   "cell_type": "markdown",
   "id": "7f4cbd5b",
   "metadata": {},
   "source": [
    "### Способ 2"
   ]
  },
  {
   "cell_type": "code",
   "execution_count": 37,
   "id": "5af5e5dc",
   "metadata": {},
   "outputs": [
    {
     "name": "stdout",
     "output_type": "stream",
     "text": [
      "ns = array([7, 6, 5, 4, 3, 2, 1, 0])\n",
      "shifteds = array([ 0,  0,  1,  2,  5, 10, 21, 42])\n",
      "odds = array([0, 0, 1, 0, 1, 0, 1, 0])\n"
     ]
    }
   ],
   "source": [
    "# пошаговые инструкции\n",
    "import numpy as np\n",
    "\n",
    "x = 42\n",
    "ns = np.arange(7, -1, -1)\n",
    "print(f\"{ns = }\")\n",
    "shifteds = x >> ns        # результаты деления на степени двойки с округлением вниз\n",
    "print(f\"{shifteds = }\")\n",
    "odds = shifteds & 1\n",
    "print(f\"{odds = }\")"
   ]
  },
  {
   "cell_type": "markdown",
   "id": "8b9e8c5f",
   "metadata": {},
   "source": [
    "Напишем функцию, для перевода чисел в двоичное представление в виде массива."
   ]
  },
  {
   "cell_type": "code",
   "execution_count": null,
   "id": "b66e4416",
   "metadata": {},
   "outputs": [],
   "source": [
    "import numpy as np\n",
    "\n",
    "def int_to_bits(n: int) -> np.ndarray:\n",
    "    width = n.bit_length()\n",
    "    n_bytes = (width + 7) >> 3  # или // 8 \n",
    "    shifts = np.arange(n_bytes*8-1, -1, -1, dtype=np.uint64)\n",
    "    return (n >> shifts) & 1"
   ]
  },
  {
   "cell_type": "code",
   "execution_count": 43,
   "id": "bbcb1252",
   "metadata": {},
   "outputs": [
    {
     "name": "stdout",
     "output_type": "stream",
     "text": [
      "[0 0 1 0 1 0 1 0]\n",
      "00101010\n"
     ]
    }
   ],
   "source": [
    "x = 42\n",
    "\n",
    "bynary_lst = int_to_bits(x)\n",
    "print(bynary_lst)\n",
    "bynary_str = \"\".join(bynary_lst.astype(str))\n",
    "print(bynary_str)"
   ]
  },
  {
   "cell_type": "markdown",
   "id": "dd67a475",
   "metadata": {},
   "source": [
    "# Binary Number to Decimal"
   ]
  },
  {
   "cell_type": "code",
   "execution_count": 40,
   "id": "de8f6302",
   "metadata": {},
   "outputs": [
    {
     "name": "stdout",
     "output_type": "stream",
     "text": [
      "42\n"
     ]
    }
   ],
   "source": [
    "def bin_int_to_dec(s: str) -> int:\n",
    "\tresult = 0\n",
    "\tfor i, digit in enumerate(reversed(s)):\n",
    "\t\tresult += int(digit) * 2 ** i\n",
    "\treturn result\n",
    "\n",
    "print(bin_int_to_dec(\"101010\"))"
   ]
  },
  {
   "cell_type": "code",
   "execution_count": null,
   "id": "53ba9197",
   "metadata": {},
   "outputs": [
    {
     "data": {
      "text/plain": [
       "18"
      ]
     },
     "execution_count": 5,
     "metadata": {},
     "output_type": "execute_result"
    }
   ],
   "source": [
    "2 | "
   ]
  },
  {
   "cell_type": "code",
   "execution_count": null,
   "id": "b9070946",
   "metadata": {},
   "outputs": [],
   "source": [
    "import numpy as np\n",
    "\n",
    "def bin_to_int"
   ]
  },
  {
   "cell_type": "markdown",
   "id": "18d72051",
   "metadata": {},
   "source": [
    "# Decimal Fraction to Binary\n",
    "\n",
    "Функция, переводящая дробную часть десятичного числа в десятичную дробь:"
   ]
  },
  {
   "cell_type": "code",
   "execution_count": 11,
   "id": "4857db3d",
   "metadata": {},
   "outputs": [
    {
     "name": "stdout",
     "output_type": "stream",
     "text": [
      "01011\n"
     ]
    }
   ],
   "source": [
    "def dec_frac_to_bin(a: int, precision: int=8) -> str:\n",
    "    assert a >= 0 and a < 1.0, \"incorrect value\"\n",
    "    b = \"\"\n",
    "    for i in range(precision):\n",
    "        a *= 2\n",
    "        b += str(int(a))\n",
    "        a -= int(a)\n",
    "    b += \"0\" * (precision - len(b))\n",
    "    return b\n",
    "\n",
    "print(dec_frac_to_bin(.355, 5))"
   ]
  },
  {
   "cell_type": "markdown",
   "id": "2d4d2bf6",
   "metadata": {},
   "source": [
    "Функция, переводящая десятичную дробь в двоичную (с заданной точностью):"
   ]
  },
  {
   "cell_type": "code",
   "execution_count": 12,
   "id": "67fc5114",
   "metadata": {},
   "outputs": [
    {
     "name": "stdout",
     "output_type": "stream",
     "text": [
      "101010.01101011\n"
     ]
    }
   ],
   "source": [
    "def dec_to_bin(a: float, precision: int=8) -> str:\n",
    "    sign = \"-\" if a < 0 else \"\"\n",
    "    a = abs(a)\n",
    "    integer = dec_int_to_bin(int(a))\n",
    "    frac = dec_frac_to_bin(a - int(a), precision)\n",
    "    return sign + integer + '.' + frac\n",
    "\n",
    "print(dec_to_bin(42.42))"
   ]
  },
  {
   "cell_type": "markdown",
   "id": "a2639536",
   "metadata": {},
   "source": [
    "# Binary Fraction to Decimal\n",
    "\n",
    "Функция, переводящая дробную часть двоичного числа в десятичную дробь:"
   ]
  },
  {
   "cell_type": "code",
   "execution_count": 13,
   "id": "f2e9cde9",
   "metadata": {},
   "outputs": [
    {
     "name": "stdout",
     "output_type": "stream",
     "text": [
      "0.34375\n"
     ]
    }
   ],
   "source": [
    "def bin_frac_to_dec(s: str) -> int:\n",
    "\tresult = 0\n",
    "\tfor i, digit in enumerate(s):\n",
    "\t\tresult += int(digit) * (1 / 2 ** (i+1))\n",
    "\treturn result\n",
    "\n",
    "print(bin_frac_to_dec(\"01011\"))"
   ]
  },
  {
   "cell_type": "markdown",
   "id": "75e2a339",
   "metadata": {},
   "source": [
    "Функция, переводящая двоичную дробь в десятичную:"
   ]
  },
  {
   "cell_type": "code",
   "execution_count": 14,
   "id": "18fddec5",
   "metadata": {},
   "outputs": [],
   "source": [
    "def bin_to_dec(s: str) -> float:\n",
    "\tsign = 1\n",
    "\tif s[0] == '-':\n",
    "\t\tsign = -1\n",
    "\t\ts = s[1:]\n",
    "\tif '.' not in s:\n",
    "\t\treturn sign * float(bin_int_to_dec(s))\n",
    "\tint_part, frac_part = s.split(sep=\".\")\n",
    "\tinteger = bin_int_to_dec(int_part) if int_part else 0\n",
    "\tfraction = bin_frac_to_dec(frac_part) if frac_part else 0.0\n",
    "\treturn sign * (integer + fraction)"
   ]
  },
  {
   "cell_type": "code",
   "execution_count": 15,
   "id": "af6536d0",
   "metadata": {},
   "outputs": [
    {
     "name": "stdout",
     "output_type": "stream",
     "text": [
      "d_1 = 13.355 -> b = '1101.01011' -> 13.34375\n",
      "error: 0.011250000000000426\n"
     ]
    }
   ],
   "source": [
    "d_1 = 13.355\n",
    "b = dec_to_bin(d_1, precision=5)\n",
    "d_2 = bin_to_dec(b)\n",
    "print(f\"{d_1 = } -> {b = } -> {d_2}\\nerror: {abs(d_1 - d_2)}\")"
   ]
  },
  {
   "cell_type": "markdown",
   "id": "905c8ac7",
   "metadata": {},
   "source": [
    "# Floating-Point Number\n",
    "\n",
    "Нормализованная мантисса:"
   ]
  },
  {
   "cell_type": "code",
   "execution_count": 17,
   "id": "d146cc03",
   "metadata": {},
   "outputs": [
    {
     "name": "stdout",
     "output_type": "stream",
     "text": [
      "S = 1.0, E = 134.0\n"
     ]
    }
   ],
   "source": [
    "S = bin_to_dec('1')\n",
    "E = bin_to_dec(\"10000110\")\n",
    "print(F\"{S = }, {E = }\")"
   ]
  },
  {
   "cell_type": "code",
   "execution_count": 16,
   "id": "8912f59d",
   "metadata": {},
   "outputs": [
    {
     "name": "stdout",
     "output_type": "stream",
     "text": [
      "1.6875 6.75\n"
     ]
    }
   ],
   "source": [
    "nM = bin_to_dec(\"1.1011\")   # normalized mantissa\n",
    "print(nM, nM * 2**2)"
   ]
  },
  {
   "cell_type": "code",
   "execution_count": 18,
   "id": "ae00906e",
   "metadata": {},
   "outputs": [
    {
     "name": "stdout",
     "output_type": "stream",
     "text": [
      "M = 0.22786104679107666\n"
     ]
    }
   ],
   "source": [
    "M = bin_to_dec(\".00111010010101010001101\")\n",
    "print(f\"{M = }\")"
   ]
  },
  {
   "cell_type": "code",
   "execution_count": 19,
   "id": "77736c6f",
   "metadata": {},
   "outputs": [
    {
     "name": "stdout",
     "output_type": "stream",
     "text": [
      "-157.1662139892578\n"
     ]
    }
   ],
   "source": [
    "R = (-1)**S * (M+1) * 2**(E-127)\n",
    "print(R)"
   ]
  }
 ],
 "metadata": {
  "kernelspec": {
   "display_name": "marl",
   "language": "python",
   "name": "python3"
  },
  "language_info": {
   "codemirror_mode": {
    "name": "ipython",
    "version": 3
   },
   "file_extension": ".py",
   "mimetype": "text/x-python",
   "name": "python",
   "nbconvert_exporter": "python",
   "pygments_lexer": "ipython3",
   "version": "3.12.11"
  }
 },
 "nbformat": 4,
 "nbformat_minor": 5
}
