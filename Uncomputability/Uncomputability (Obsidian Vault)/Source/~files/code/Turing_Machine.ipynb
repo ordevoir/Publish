{
 "cells": [
  {
   "cell_type": "markdown",
   "id": "a3465e3b",
   "metadata": {},
   "source": [
    "# Машины Тьюринга\n",
    "\n",
    "Реализуем основные функции"
   ]
  },
  {
   "cell_type": "code",
   "execution_count": 1,
   "id": "943d2965",
   "metadata": {},
   "outputs": [],
   "source": [
    "def E(tape: list, p: int):\n",
    "    \"\"\"erase\"\"\"\n",
    "    tape[p] = 0\n",
    "    return p\n",
    "\n",
    "def W(tape: list, p: int):\n",
    "    \"\"\"write\"\"\"\n",
    "    tape[p] = 1\n",
    "    return p\n",
    "\n",
    "def L(tape: list, p: int):\n",
    "    \"\"\"left\"\"\"\n",
    "    return p - 1\n",
    "\n",
    "def R(tape: list, p: int):\n",
    "    \"\"\"right\"\"\"\n",
    "    return p + 1\n",
    "\n",
    "def execute(tape:list, \n",
    "            instructions:list, \n",
    "            start_position=None, \n",
    "            start_state_index:int=1,\n",
    "            ):\n",
    "    if start_position is None:\n",
    "        start_position = len(tape) // 2\n",
    "    p = start_position\n",
    "    act, state = instructions[start_state_index](tape[p])\n",
    "    n_steps = 0\n",
    "    while True:\n",
    "        n_steps += 1\n",
    "        if act is None:\n",
    "            break\n",
    "        p = act(tape, p)\n",
    "        value = tape[p]\n",
    "        act, state = instructions[state](value)\n",
    "    print(f\"steps count: {n_steps}\")\n",
    "    return p"
   ]
  },
  {
   "cell_type": "markdown",
   "id": "cc575632",
   "metadata": {},
   "source": [
    "# Запись в трех клетках\n",
    "\n",
    "Напишем программу, которая производит запись в трех последовательных клетках и завершается, указывая на крайний левый символ. \n",
    "\n",
    "<img src=\"https://raw.githubusercontent.com/ordevoir/Miscellaneous/master/images/science/turing_machine_program.png\">\n",
    "\n",
    "Стартовым состоянием будем считать $q_1$:"
   ]
  },
  {
   "cell_type": "code",
   "execution_count": 2,
   "id": "8da7bf6f",
   "metadata": {},
   "outputs": [],
   "source": [
    "type_three_strokes = [\n",
    "    None,\n",
    "    lambda value : (L, 2) if value==1 else (W, 1),          # q_1\n",
    "    lambda value : (L, 3) if value==1 else (W, 2),          # q_2\n",
    "    lambda value : (None, None) if value==1 else (W, 3),    # q_3\n",
    "]"
   ]
  },
  {
   "cell_type": "code",
   "execution_count": 5,
   "id": "90ec4512",
   "metadata": {},
   "outputs": [
    {
     "name": "stdout",
     "output_type": "stream",
     "text": [
      "[0, 0, 0, 0, 0, 0, 0, 0, 0, 0]\n",
      "steps count: 6\n"
     ]
    },
    {
     "data": {
      "text/plain": [
       "([0, 0, 0, 1, 1, 1, 0, 0, 0, 0], 3)"
      ]
     },
     "execution_count": 5,
     "metadata": {},
     "output_type": "execute_result"
    }
   ],
   "source": [
    "tape = [0] * 10\n",
    "print(tape)\n",
    "start_position = 5\n",
    "final_position = execute(tape, type_three_strokes, start_position)\n",
    "tape, final_position"
   ]
  },
  {
   "cell_type": "markdown",
   "id": "e8d7f42c",
   "metadata": {},
   "source": [
    "# Удваивание числа\n",
    "\n",
    "Будем использовать **унарную систему счисления** (*unary numeral system* или *tally numeration system*), в которой, для хранения, скажем, числа 5, будет блок из пяти заштрихованных клеток: $\\ldots 0111110 \\ldots$. Граф перехода может быть представлен так:\n",
    "\n",
    "![fig](https://raw.githubusercontent.com/ordevoir/Miscellaneous/master/images/science/turing_machine_doubling.png)"
   ]
  },
  {
   "cell_type": "code",
   "execution_count": 29,
   "id": "0d233f07",
   "metadata": {},
   "outputs": [],
   "source": [
    "doubling_number_of_strokes = [\n",
    "    None,\n",
    "    lambda value : (L, 2)  if value else (None, None),\n",
    "    lambda value : (L, 3),\n",
    "    lambda value : (L, 4)  if value else (W, 3),\n",
    "    lambda value : (R, 5)  if value else (W, 4),\n",
    "    lambda value : (R, 5)  if value else (R, 6),\n",
    "    lambda value : (R, 6)  if value else (L, 7),\n",
    "    lambda value : (E, 7)  if value else (L, 8),\n",
    "    lambda value : (L, 9)  if value else (L, 11),\n",
    "    lambda value : (L, 9)  if value else (L, 10),\n",
    "    lambda value : (L, 10) if value else (R, 2),\n",
    "    lambda value : (L, 11) if value else (R, 12),\n",
    "    lambda value : (None, None),\n",
    "]"
   ]
  },
  {
   "cell_type": "code",
   "execution_count": 30,
   "id": "1e6c6f9d",
   "metadata": {},
   "outputs": [
    {
     "name": "stdout",
     "output_type": "stream",
     "text": [
      "[0, 0, 0, 0, 0, 0, 0, 0, 0, 0, 0, 0, 0, 0, 0, 1, 1, 1, 1, 0, 0, 0, 0, 0, 0]\n",
      "steps count: 98\n",
      "[0, 0, 0, 0, 0, 0, 1, 1, 1, 1, 1, 1, 1, 1, 0, 0, 0, 0, 0, 0, 0, 0, 0, 0, 0]\n",
      "6\n"
     ]
    }
   ],
   "source": [
    "tape = [0] * 25\n",
    "number = 4\n",
    "position = 15\n",
    "tape[position: position+number] = [1] * number\n",
    "print(tape)\n",
    "\n",
    "steps = execute(tape, doubling_number_of_strokes, position)\n",
    "print(tape)\n",
    "print(steps)"
   ]
  },
  {
   "cell_type": "markdown",
   "id": "d44a4281",
   "metadata": {},
   "source": [
    "# Произведение двух натуральных чисел\n",
    "\n",
    "![fig](https://raw.githubusercontent.com/ordevoir/Miscellaneous/master/images/science/turing_machine_multiplication.png)"
   ]
  },
  {
   "cell_type": "code",
   "execution_count": 31,
   "id": "ccb6f212",
   "metadata": {},
   "outputs": [],
   "source": [
    "multiplying = [\n",
    "    None,\n",
    "    lambda value : (E, 1)  if value else (R, 2),\n",
    "    lambda value : (R, 3)  if value else (R, 15),\n",
    "    lambda value : (R, 3)  if value else (R, 4),\n",
    "    lambda value : (E, 5)  if value else (R, 4),\n",
    "    lambda value : (R, 6), \n",
    "    lambda value : (R, 7)  if value else (W, 12),\n",
    "    lambda value : (R, 7)  if value else (R, 8),\n",
    "    lambda value : (R, 9)  if value else (W, 10),\n",
    "    lambda value : (R, 9)  if value else (W, 10),\n",
    "    lambda value : (L, 10) if value else (L, 11),\n",
    "    lambda value : (L, 11) if value else (R, 4),\n",
    "    lambda value : (L, 13),\n",
    "    lambda value : (L, 14) if value else (L, 13),\n",
    "    lambda value : (L, 14) if value else (R, 1),\n",
    "    lambda value : (L, 17) if value else (W, 16),\n",
    "    lambda value : (R, 15),\n",
    "    lambda value : (L, 17) if value else (R, 18),\n",
    "    lambda value : (None, None),\n",
    "]"
   ]
  },
  {
   "cell_type": "code",
   "execution_count": 32,
   "id": "2a0db8ee",
   "metadata": {},
   "outputs": [
    {
     "name": "stdout",
     "output_type": "stream",
     "text": [
      "[0, 0, 0, 0, 0, 1, 1, 1, 1, 0, 1, 1, 1, 0, 0, 0, 0, 0, 0, 0, 0, 0, 0, 0, 0]\n",
      "steps count: 165\n",
      "[0, 0, 0, 0, 0, 0, 0, 0, 0, 0, 1, 1, 1, 1, 1, 1, 1, 1, 1, 1, 1, 1, 0, 0, 0]\n",
      "position = 10\n"
     ]
    },
    {
     "data": {
      "text/plain": [
       "12"
      ]
     },
     "execution_count": 32,
     "metadata": {},
     "output_type": "execute_result"
    }
   ],
   "source": [
    "number1 = 4\n",
    "number2 = 3\n",
    "\n",
    "tape = [0] * 25\n",
    "position = 5\n",
    "\n",
    "# запись первого числа на ленту\n",
    "tape[position: position+number1] = [1] * number1\n",
    "\n",
    "# запись второго числа на ленту\n",
    "p1 = position + number1 + 1\n",
    "p2 = p1 + number2\n",
    "tape[p1: p2] = [1] * number2\n",
    "\n",
    "print(tape)\n",
    "\n",
    "position = execute(tape, multiplying, position)\n",
    "print(tape)\n",
    "print(f\"{position = }\")\n",
    "sum(tape)"
   ]
  }
 ],
 "metadata": {
  "kernelspec": {
   "display_name": "marl",
   "language": "python",
   "name": "python3"
  },
  "language_info": {
   "codemirror_mode": {
    "name": "ipython",
    "version": 3
   },
   "file_extension": ".py",
   "mimetype": "text/x-python",
   "name": "python",
   "nbconvert_exporter": "python",
   "pygments_lexer": "ipython3",
   "version": "3.12.11"
  }
 },
 "nbformat": 4,
 "nbformat_minor": 5
}
